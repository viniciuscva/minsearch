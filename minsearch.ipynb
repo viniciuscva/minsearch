{
 "cells": [
  {
   "cell_type": "code",
   "execution_count": 5,
   "id": "14d17f2a-85cb-462e-bf02-1da87f4fed05",
   "metadata": {},
   "outputs": [],
   "source": [
    "from random import random\n",
    "class RandomHash:\n",
    "    def __init__(self):\n",
    "        self.table = dict()\n",
    "    def of(self, x):\n",
    "        if x not in self.table:\n",
    "            self.table[x] = random()\n",
    "        return self.table[x]"
   ]
  },
  {
   "cell_type": "code",
   "execution_count": 6,
   "id": "d79c27a4-470a-458b-984b-fd71bc64c7bf",
   "metadata": {},
   "outputs": [],
   "source": [
    "def build_array(s, q):\n",
    "    \"\"\"\n",
    "    build an array A with |s | − q + 1 elements, where the i-th element\n",
    "    A[i] = F (si..i+q−1), where F : Σq → (0, 1) is a random hash function\n",
    "    \"\"\"\n",
    "    from random import random\n",
    "    F = RandomHash()\n",
    "    A = []\n",
    "    for i in range(len(s)-q+1):\n",
    "        A.append(F.of(s[i:i+q]))\n",
    "    return A    "
   ]
  },
  {
   "cell_type": "code",
   "execution_count": 7,
   "id": "75195215-451d-41c8-a37a-67eba85a14b1",
   "metadata": {},
   "outputs": [
    {
     "data": {
      "text/plain": [
       "[0.598152218891704, 0.7818686822714424, 0.12328346654685007]"
      ]
     },
     "execution_count": 7,
     "metadata": {},
     "output_type": "execute_result"
    }
   ],
   "source": [
    "build_array('amigo', 3)"
   ]
  },
  {
   "cell_type": "code",
   "execution_count": 10,
   "id": "6758e065-f106-4e2c-a794-3bd1208f7bb3",
   "metadata": {},
   "outputs": [],
   "source": [
    "def Rank(s, r, q):\n",
    "    \"\"\"\n",
    "    Input: input string s; minimum rank r\n",
    "    Output: rank array R = {(pi, Ri )}: pi denotes the index of the letter in\n",
    "    s corresponding to the i-th pair, and Ri is its rank\n",
    "    \"\"\"\n",
    "    A = build_array(s, q)\n",
    "    R = [(0, float('inf'))] # the first character of s has ranking infinity\n",
    "    for i in range(len(A)):\n",
    "        x = 1\n",
    "        while i-x >= 0 and i+x < len(A):\n",
    "            if A[i] < min(A[i+x], A[i-x]):\n",
    "                x += 1\n",
    "            else:\n",
    "                break\n",
    "        if x > r:\n",
    "            R.append((i, x-1))\n",
    "    R.append((len(s)-q, float('inf')))\n",
    "    return R   "
   ]
  },
  {
   "cell_type": "code",
   "execution_count": 19,
   "id": "53448c23-f352-4ee5-91e6-d87d1defc32d",
   "metadata": {},
   "outputs": [
    {
     "data": {
      "text/plain": [
       "[(0, inf), (1, 1), (3, 1), (5, 5), (12, 1), (13, inf)]"
      ]
     },
     "execution_count": 19,
     "metadata": {},
     "output_type": "execute_result"
    }
   ],
   "source": [
    "Rank('ACGTTCGACTGGTTAG', 1, 3)"
   ]
  },
  {
   "cell_type": "code",
   "execution_count": 3,
   "id": "741bc073-9842-45b1-96ad-5ea6b06c3145",
   "metadata": {},
   "outputs": [],
   "source": [
    "def Partition(s, R, start, end):\n",
    "    \"\"\"\n",
    "    Input: input string s; rank array R = {(pi, Ri )} of s; two indices start and end\n",
    "    Output: set of partitions P = {(ssub , l)}, where (ssub , l) denotes a\n",
    "    substring ssub with level l\n",
    "    \"\"\"\n",
    "    if end <= start + 1:\n",
    "        return []\n",
    "    maxR = float('-inf')\n",
    "    M = []\n",
    "    i = start + 1\n",
    "    while i < end:\n",
    "        if R[i][1] > maxR:\n",
    "            maxR = R[i][1]\n",
    "            M = [i]\n",
    "        if R[i][1] == maxR:\n",
    "            M.append(i)\n",
    "        i += 1\n",
    "    P = []\n",
    "    M = [start] + M + [end]\n",
    "    M.sort()\n",
    "    for j in range(len(M)-1):\n",
    "        u = M[j]\n",
    "        v = M[j+1]\n",
    "        pu = R[u][0]\n",
    "        pv_minus_1 = R[v-1][0]\n",
    "        P.append((s[pu:pv_minus_1 + 1], min(R[u][1], R[v][1])))\n",
    "        P.extend(Partition(s, R, u, v))\n",
    "    return P"
   ]
  },
  {
   "cell_type": "code",
   "execution_count": 20,
   "id": "6c4e4058-72e7-4c46-9181-86e00e657f35",
   "metadata": {},
   "outputs": [
    {
     "data": {
      "text/plain": [
       "[('ACG', 4),\n",
       " ('A', 1),\n",
       " ('', 1),\n",
       " ('G', 1),\n",
       " ('', 4),\n",
       " ('TCGACTG', 4),\n",
       " ('TCG', 3),\n",
       " ('T', 1),\n",
       " ('', 1),\n",
       " ('G', 1),\n",
       " ('', 3),\n",
       " ('G', 3)]"
      ]
     },
     "execution_count": 20,
     "metadata": {},
     "output_type": "execute_result"
    }
   ],
   "source": [
    "R = Rank('ACGTTCGACTGGTTAG', 1, 3)\n",
    "Partition('ACGTTCGACTGGTTAG', R, 0, len(R)-1)"
   ]
  },
  {
   "cell_type": "code",
   "execution_count": null,
   "id": "5d26c3a5-508d-46a4-af6e-ab98967dcd3d",
   "metadata": {},
   "outputs": [],
   "source": [
    "def build_index(S):\n",
    "    \"\"\"\n",
    "    Input: set of input strings S = {s1, . . . , sn }\n",
    "    Output: set of hash tables {(Hi, fi )}, where for the i-th hash table, each\n",
    "    string s is hashed into the fi(s)-th bucket of Hi\n",
    "    \"\"\"\n",
    "    hash_tables = []\n",
    "    \n",
    "    return hash_tables"
   ]
  }
 ],
 "metadata": {
  "kernelspec": {
   "display_name": "Python 3 (ipykernel)",
   "language": "python",
   "name": "python3"
  },
  "language_info": {
   "codemirror_mode": {
    "name": "ipython",
    "version": 3
   },
   "file_extension": ".py",
   "mimetype": "text/x-python",
   "name": "python",
   "nbconvert_exporter": "python",
   "pygments_lexer": "ipython3",
   "version": "3.8.10"
  }
 },
 "nbformat": 4,
 "nbformat_minor": 5
}
