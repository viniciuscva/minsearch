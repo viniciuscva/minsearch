{
 "cells": [
  {
   "cell_type": "code",
   "execution_count": null,
   "id": "6758e065-f106-4e2c-a794-3bd1208f7bb3",
   "metadata": {},
   "outputs": [],
   "source": [
    "def Rank(s, r):\n",
    "    \"\"\"\n",
    "    Input: input string s; minimum rank r\n",
    "    Output: rank array R = {(pi, Ri )}: pi denotes the index of the letter in\n",
    "    s corresponding to the i-th pair, and Ri is its rank\n",
    "    \"\"\"\n",
    "    "
   ]
  }
 ],
 "metadata": {
  "kernelspec": {
   "display_name": "Python 3 (ipykernel)",
   "language": "python",
   "name": "python3"
  },
  "language_info": {
   "codemirror_mode": {
    "name": "ipython",
    "version": 3
   },
   "file_extension": ".py",
   "mimetype": "text/x-python",
   "name": "python",
   "nbconvert_exporter": "python",
   "pygments_lexer": "ipython3",
   "version": "3.8.10"
  }
 },
 "nbformat": 4,
 "nbformat_minor": 5
}
