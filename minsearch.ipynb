{
 "cells": [
  {
   "cell_type": "code",
   "execution_count": 5,
   "id": "14d17f2a-85cb-462e-bf02-1da87f4fed05",
   "metadata": {},
   "outputs": [],
   "source": [
    "from random import random\n",
    "class RandomHash:\n",
    "    def __init__(self):\n",
    "        self.table = dict()\n",
    "    def of(self, x):\n",
    "        if x not in self.table:\n",
    "            self.table[x] = random()\n",
    "        return self.table[x]"
   ]
  },
  {
   "cell_type": "code",
   "execution_count": 6,
   "id": "d79c27a4-470a-458b-984b-fd71bc64c7bf",
   "metadata": {},
   "outputs": [],
   "source": [
    "def build_array(s, q):\n",
    "    \"\"\"\n",
    "    build an array A with |s | − q + 1 elements, where the i-th element\n",
    "    A[i] = F (si..i+q−1), where F : Σq → (0, 1) is a random hash function\n",
    "    \"\"\"\n",
    "    from random import random\n",
    "    F = RandomHash()\n",
    "    A = []\n",
    "    for i in range(len(s)-q+1):\n",
    "        A.append(F.of(s[i:i+q]))\n",
    "    return A    "
   ]
  },
  {
   "cell_type": "code",
   "execution_count": 7,
   "id": "75195215-451d-41c8-a37a-67eba85a14b1",
   "metadata": {},
   "outputs": [
    {
     "data": {
      "text/plain": [
       "[0.598152218891704, 0.7818686822714424, 0.12328346654685007]"
      ]
     },
     "execution_count": 7,
     "metadata": {},
     "output_type": "execute_result"
    }
   ],
   "source": [
    "build_array('amigo', 3)"
   ]
  },
  {
   "cell_type": "code",
   "execution_count": 10,
   "id": "6758e065-f106-4e2c-a794-3bd1208f7bb3",
   "metadata": {},
   "outputs": [],
   "source": [
    "def Rank(s, r, q):\n",
    "    \"\"\"\n",
    "    Input: input string s; minimum rank r\n",
    "    Output: rank array R = {(pi, Ri )}: pi denotes the index of the letter in\n",
    "    s corresponding to the i-th pair, and Ri is its rank\n",
    "    \"\"\"\n",
    "    A = build_array(s, q)\n",
    "    R = [(0, float('inf'))] # the first character of s has ranking infinity\n",
    "    for i in range(len(A)):\n",
    "        x = 1\n",
    "        while i-x >= 0 and i+x < len(A):\n",
    "            if A[i] < min(A[i+x], A[i-x]):\n",
    "                x += 1\n",
    "            else:\n",
    "                break\n",
    "        if x > r:\n",
    "            R.append((i, x-1))\n",
    "    R.append((len(s)-q, float('inf')))\n",
    "    return R   "
   ]
  },
  {
   "cell_type": "code",
   "execution_count": 40,
   "id": "53448c23-f352-4ee5-91e6-d87d1defc32d",
   "metadata": {},
   "outputs": [
    {
     "data": {
      "text/plain": [
       "[(0, inf),\n",
       " (0, 0),\n",
       " (1, 0),\n",
       " (2, 0),\n",
       " (3, 0),\n",
       " (4, 0),\n",
       " (5, 0),\n",
       " (6, 0),\n",
       " (7, 6),\n",
       " (8, 0),\n",
       " (9, 0),\n",
       " (10, 0),\n",
       " (11, 2),\n",
       " (12, 0),\n",
       " (13, 0),\n",
       " (13, inf)]"
      ]
     },
     "execution_count": 40,
     "metadata": {},
     "output_type": "execute_result"
    }
   ],
   "source": [
    "Rank('ACGTTCGACTGGTTAG', 0, 3)"
   ]
  },
  {
   "cell_type": "code",
   "execution_count": 57,
   "id": "741bc073-9842-45b1-96ad-5ea6b06c3145",
   "metadata": {},
   "outputs": [],
   "source": [
    "def Partition(s, R, start, end):\n",
    "    \"\"\"\n",
    "    Input: input string s; rank array R = {(pi, Ri )} of s; two indices start and end\n",
    "    Output: set of partitions P = {(ssub , l)}, where (ssub , l) denotes a\n",
    "    substring ssub with level l\n",
    "    \"\"\"\n",
    "    if end <= start + 1:\n",
    "        return []\n",
    "    maxR = float('-inf')\n",
    "    M = []\n",
    "    i = start + 1\n",
    "    while i < end:\n",
    "        if R[i][1] > maxR:\n",
    "            maxR = R[i][1]\n",
    "            M = [i]\n",
    "        if R[i][1] == maxR:\n",
    "            M.append(i)\n",
    "        i += 1\n",
    "    P = []\n",
    "    M = [start] + M + [end]\n",
    "    M.sort()\n",
    "    for j in range(len(M)-1):\n",
    "        u = M[j]\n",
    "        v = M[j+1]\n",
    "        pu = R[u][0]\n",
    "        pv_minus_1 = R[v-1][0]\n",
    "        pv = R[v][0]\n",
    "        P.append((s[pu:pv_minus_1 + 1], min(R[u][1], R[v][1])))\n",
    "        P = P+(Partition(s, R, u, v))\n",
    "    return P"
   ]
  },
  {
   "cell_type": "code",
   "execution_count": 58,
   "id": "6c4e4058-72e7-4c46-9181-86e00e657f35",
   "metadata": {},
   "outputs": [
    {
     "data": {
      "text/plain": [
       "[('ACGT', 4),\n",
       " ('AC', 1),\n",
       " ('A', 0),\n",
       " ('A', 0),\n",
       " ('A', 0),\n",
       " ('C', 0),\n",
       " ('', 1),\n",
       " ('GT', 1),\n",
       " ('G', 0),\n",
       " ('', 0),\n",
       " ('T', 0),\n",
       " ('', 4),\n",
       " ('TCGACTGGTT', 4),\n",
       " ('TC', 1),\n",
       " ('T', 0),\n",
       " ('', 0),\n",
       " ('C', 0),\n",
       " ('', 1),\n",
       " ('GA', 1),\n",
       " ('G', 0),\n",
       " ('', 0),\n",
       " ('A', 0),\n",
       " ('CT', 1),\n",
       " ('C', 0),\n",
       " ('', 0),\n",
       " ('T', 0),\n",
       " ('GG', 1),\n",
       " ('G', 0),\n",
       " ('', 0),\n",
       " ('G', 0),\n",
       " ('TT', 1),\n",
       " ('T', 0),\n",
       " ('', 0),\n",
       " ('T', 0)]"
      ]
     },
     "execution_count": 58,
     "metadata": {},
     "output_type": "execute_result"
    }
   ],
   "source": [
    "R = Rank('ACGTTCGACTGGTTAG', 0, 3)\n",
    "Partition('ACGTTCGACTGGTTAG', R, 0, len(R)-1)"
   ]
  },
  {
   "cell_type": "code",
   "execution_count": 72,
   "id": "b6cc9199-c691-48c6-8671-b33e350bbbc9",
   "metadata": {},
   "outputs": [],
   "source": [
    "from random import randint\n",
    "from collections import defaultdict\n",
    "class RandomHashInt:\n",
    "    def __init__(self):\n",
    "        self.table = dict()\n",
    "    def of(self, x):\n",
    "        if x not in self.table:\n",
    "            self.table[x] = randint(0,1000)\n",
    "        return self.table[x]\n",
    "class HashTablesList:\n",
    "    def __init__(self):\n",
    "        self.tables = {}\n",
    "    def get(self, l):\n",
    "        if l not in self.tables:\n",
    "            return None\n",
    "        return self.tables[l]\n",
    "    def insert(self, l):\n",
    "        self.tables[l] = {'table': defaultdict(set), 'random_function': RandomHashInt() }"
   ]
  },
  {
   "cell_type": "code",
   "execution_count": 88,
   "id": "5d26c3a5-508d-46a4-af6e-ab98967dcd3d",
   "metadata": {},
   "outputs": [],
   "source": [
    "def build_index(S, q):\n",
    "    \"\"\"\n",
    "    Input: set of input strings S = {s1, . . . , sn }\n",
    "    Output: set of hash tables {(Hi, fi )}, where for the i-th hash table, each\n",
    "    string s is hashed into the fi(s)-th bucket of Hi\n",
    "    \"\"\"\n",
    "    hash_tables = HashTablesList()\n",
    "    for i,si in enumerate(S):\n",
    "        Ri = Rank(si, 0, q)\n",
    "        Pi = Partition(si, Ri, 0, len(Ri)-1)\n",
    "        for (ssub, l) in Pi:\n",
    "            if hash_tables.get(l) is None:\n",
    "                hash_tables.insert(l)\n",
    "            fl = hash_tables.get(l)['random_function']\n",
    "            hash_tables.get(l)['table'][(ssub, fl.of(ssub))].add(i)\n",
    "    return hash_tables"
   ]
  },
  {
   "cell_type": "code",
   "execution_count": 91,
   "id": "954097e1-f0a1-47e2-a575-853df411f6fb",
   "metadata": {},
   "outputs": [],
   "source": [
    "S = ['ACGTTCGACTGGTTAG',\n",
    "     'CCGTTCGAACTGGTTAG',\n",
    "     'ACATTCGACTGGTTGAG',\n",
    "     'TCGAACGTTCGAACGT']\n",
    "index = build_index(S, 3)"
   ]
  },
  {
   "cell_type": "code",
   "execution_count": 92,
   "id": "e7e04d28-d4cf-406d-b070-08dad8b1dc64",
   "metadata": {},
   "outputs": [
    {
     "data": {
      "text/plain": [
       "{6: {'table': defaultdict(set,\n",
       "              {('ACGTTC', 437): {0}, ('', 953): {0}, ('GACTGGTT', 994): {0}}),\n",
       "  'random_function': <__main__.RandomHashInt at 0x7f4eb46445b0>},\n",
       " 2: {'table': defaultdict(set,\n",
       "              {('AC', 435): {0},\n",
       "               ('', 271): {0, 1},\n",
       "               ('GTTC', 625): {0},\n",
       "               ('GACTG', 778): {0},\n",
       "               ('GTT', 529): {0},\n",
       "               ('TTC', 721): {1},\n",
       "               ('GAAC', 757): {1}}),\n",
       "  'random_function': <__main__.RandomHashInt at 0x7f4eb462d580>},\n",
       " 0: {'table': defaultdict(set,\n",
       "              {('A', 52): {0, 1, 2, 3},\n",
       "               ('C', 654): {0, 1, 2, 3},\n",
       "               ('G', 198): {0, 1, 2, 3},\n",
       "               ('', 798): {0, 1, 2, 3},\n",
       "               ('T', 237): {0, 1, 2, 3}}),\n",
       "  'random_function': <__main__.RandomHashInt at 0x7f4eb462ddf0>},\n",
       " 1: {'table': defaultdict(set,\n",
       "              {('GA', 7): {0, 1},\n",
       "               ('', 276): {0, 1, 2, 3},\n",
       "               ('CTG', 516): {0},\n",
       "               ('AC', 831): {1, 2},\n",
       "               ('TGG', 974): {1},\n",
       "               ('TT', 69): {1, 2, 3},\n",
       "               ('ACA', 46): {2},\n",
       "               ('CG', 270): {2, 3},\n",
       "               ('T', 126): {3},\n",
       "               ('AACG', 931): {3},\n",
       "               ('AAC', 708): {3}}),\n",
       "  'random_function': <__main__.RandomHashInt at 0x7f4eb462deb0>},\n",
       " 4: {'table': defaultdict(set,\n",
       "              {('CCGTTCGAAC', 645): {1},\n",
       "               ('', 284): {1, 3},\n",
       "               ('TGGTT', 264): {1},\n",
       "               ('TCGAACGTT', 271): {3},\n",
       "               ('CGAAC', 291): {3}}),\n",
       "  'random_function': <__main__.RandomHashInt at 0x7f4eb462df70>},\n",
       " 3: {'table': defaultdict(set,\n",
       "              {('CCG', 741): {1},\n",
       "               ('', 14): {1, 2},\n",
       "               ('TTCGAAC', 630): {1},\n",
       "               ('CGAC', 572): {2},\n",
       "               ('TGGTTG', 867): {2}}),\n",
       "  'random_function': <__main__.RandomHashInt at 0x7f4eb4539e50>},\n",
       " 5: {'table': defaultdict(set,\n",
       "              {('ACATT', 571): {2}, ('', 577): {2}, ('CGACTGGTTG', 541): {2}}),\n",
       "  'random_function': <__main__.RandomHashInt at 0x7f4eb45397f0>}}"
      ]
     },
     "execution_count": 92,
     "metadata": {},
     "output_type": "execute_result"
    }
   ],
   "source": [
    "index.tables"
   ]
  },
  {
   "cell_type": "code",
   "execution_count": 93,
   "id": "b31f514b-34ae-489d-9b7d-96c889778adc",
   "metadata": {},
   "outputs": [],
   "source": [
    "def ED(s1, s2):\n",
    "    # Edit distance between two strings. Levenshtein distance, in this case\n",
    "    if len(s1) > len(s2):\n",
    "        s1, s2 = s2, s1\n",
    "\n",
    "    distances = range(len(s1) + 1)\n",
    "    for i2, c2 in enumerate(s2):\n",
    "        distances_ = [i2+1]\n",
    "        for i1, c1 in enumerate(s1):\n",
    "            if c1 == c2:\n",
    "                distances_.append(distances[i1])\n",
    "            else:\n",
    "                distances_.append(1 + min((distances[i1], distances[i1 + 1], distances_[-1])))\n",
    "        distances = distances_\n",
    "    return distances[-1]"
   ]
  },
  {
   "cell_type": "code",
   "execution_count": 94,
   "id": "7dff34a8-b0a4-41ca-98f8-5708896ba25a",
   "metadata": {},
   "outputs": [
    {
     "data": {
      "text/plain": [
       "2"
      ]
     },
     "execution_count": 94,
     "metadata": {},
     "output_type": "execute_result"
    }
   ],
   "source": [
    "ED('abc', 'cba')"
   ]
  },
  {
   "cell_type": "code",
   "execution_count": null,
   "id": "cc8c7b11-e870-43a6-a0c8-580c0061d106",
   "metadata": {},
   "outputs": [],
   "source": [
    "def min_search_threshold(S, t, K):\n",
    "    \"\"\"\n",
    "    Input: set of strings S = {s1, . . . , sn }; query string t; distance threshold K\n",
    "    Output: O ← {i | si ∈ S; ED(si, t) ≤ K }\n",
    "    \"\"\""
   ]
  }
 ],
 "metadata": {
  "kernelspec": {
   "display_name": "Python 3 (ipykernel)",
   "language": "python",
   "name": "python3"
  },
  "language_info": {
   "codemirror_mode": {
    "name": "ipython",
    "version": 3
   },
   "file_extension": ".py",
   "mimetype": "text/x-python",
   "name": "python",
   "nbconvert_exporter": "python",
   "pygments_lexer": "ipython3",
   "version": "3.8.10"
  }
 },
 "nbformat": 4,
 "nbformat_minor": 5
}
