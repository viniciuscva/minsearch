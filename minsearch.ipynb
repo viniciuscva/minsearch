{
 "cells": [
  {
   "cell_type": "code",
   "execution_count": 5,
   "id": "14d17f2a-85cb-462e-bf02-1da87f4fed05",
   "metadata": {},
   "outputs": [],
   "source": [
    "from random import random\n",
    "class RandomHash:\n",
    "    def __init__(self):\n",
    "        self.table = dict()\n",
    "    def of(self, x):\n",
    "        if x not in self.table:\n",
    "            self.table[x] = random()\n",
    "        return self.table[x]"
   ]
  },
  {
   "cell_type": "code",
   "execution_count": 6,
   "id": "d79c27a4-470a-458b-984b-fd71bc64c7bf",
   "metadata": {},
   "outputs": [],
   "source": [
    "def build_array(s, q):\n",
    "    \"\"\"\n",
    "    build an array A with |s | − q + 1 elements, where the i-th element\n",
    "    A[i] = F (si..i+q−1), where F : Σq → (0, 1) is a random hash function\n",
    "    \"\"\"\n",
    "    from random import random\n",
    "    F = RandomHash()\n",
    "    A = []\n",
    "    for i in range(len(s)-q+1):\n",
    "        A.append(F.of(s[i:i+q]))\n",
    "    return A    "
   ]
  },
  {
   "cell_type": "code",
   "execution_count": 7,
   "id": "75195215-451d-41c8-a37a-67eba85a14b1",
   "metadata": {},
   "outputs": [
    {
     "data": {
      "text/plain": [
       "[0.598152218891704, 0.7818686822714424, 0.12328346654685007]"
      ]
     },
     "execution_count": 7,
     "metadata": {},
     "output_type": "execute_result"
    }
   ],
   "source": [
    "build_array('amigo', 3)"
   ]
  },
  {
   "cell_type": "code",
   "execution_count": 10,
   "id": "6758e065-f106-4e2c-a794-3bd1208f7bb3",
   "metadata": {},
   "outputs": [],
   "source": [
    "def Rank(s, r, q):\n",
    "    \"\"\"\n",
    "    Input: input string s; minimum rank r\n",
    "    Output: rank array R = {(pi, Ri )}: pi denotes the index of the letter in\n",
    "    s corresponding to the i-th pair, and Ri is its rank\n",
    "    \"\"\"\n",
    "    A = build_array(s, q)\n",
    "    R = [(0, float('inf'))] # the first character of s has ranking infinity\n",
    "    for i in range(len(A)):\n",
    "        x = 1\n",
    "        while i-x >= 0 and i+x < len(A):\n",
    "            if A[i] < min(A[i+x], A[i-x]):\n",
    "                x += 1\n",
    "            else:\n",
    "                break\n",
    "        if x > r:\n",
    "            R.append((i, x-1))\n",
    "    R.append((len(s)-q, float('inf')))\n",
    "    return R   "
   ]
  },
  {
   "cell_type": "code",
   "execution_count": 19,
   "id": "53448c23-f352-4ee5-91e6-d87d1defc32d",
   "metadata": {},
   "outputs": [
    {
     "data": {
      "text/plain": [
       "[(0, inf), (1, 1), (3, 1), (5, 5), (12, 1), (13, inf)]"
      ]
     },
     "execution_count": 19,
     "metadata": {},
     "output_type": "execute_result"
    }
   ],
   "source": [
    "Rank('ACGTTCGACTGGTTAG', 1, 3)"
   ]
  },
  {
   "cell_type": "code",
   "execution_count": 3,
   "id": "741bc073-9842-45b1-96ad-5ea6b06c3145",
   "metadata": {},
   "outputs": [],
   "source": [
    "def Partition(s, R, start, end):\n",
    "    \"\"\"\n",
    "    Input: input string s; rank array R = {(pi, Ri )} of s; two indices start and end\n",
    "    Output: set of partitions P = {(ssub , l)}, where (ssub , l) denotes a\n",
    "    substring ssub with level l\n",
    "    \"\"\"\n",
    "    if end <= start + 1:\n",
    "        return []\n",
    "    maxR = float('-inf')\n",
    "    M = []\n",
    "    i = start + 1\n",
    "    while i < end:\n",
    "        if R[i][1] > maxR:\n",
    "            maxR = R[i][1]\n",
    "            M = [i]\n",
    "        if R[i][1] == maxR:\n",
    "            M.append(i)\n",
    "        i += 1\n",
    "    P = []\n",
    "    M = [start] + M + [end]\n",
    "    M.sort()\n",
    "    for j in range(len(M)-1):\n",
    "        u = M[j]\n",
    "        v = M[j+1]\n",
    "        pu = R[u][0]\n",
    "        pv_minus_1 = R[v-1][0]\n",
    "        P.append((s[pu:pv_minus_1 + 1], min(R[u][1], R[v][1])))\n",
    "        P.extend(Partition(s, R, u, v))\n",
    "    return P"
   ]
  },
  {
   "cell_type": "code",
   "execution_count": 20,
   "id": "6c4e4058-72e7-4c46-9181-86e00e657f35",
   "metadata": {},
   "outputs": [
    {
     "data": {
      "text/plain": [
       "[('ACG', 4),\n",
       " ('A', 1),\n",
       " ('', 1),\n",
       " ('G', 1),\n",
       " ('', 4),\n",
       " ('TCGACTG', 4),\n",
       " ('TCG', 3),\n",
       " ('T', 1),\n",
       " ('', 1),\n",
       " ('G', 1),\n",
       " ('', 3),\n",
       " ('G', 3)]"
      ]
     },
     "execution_count": 20,
     "metadata": {},
     "output_type": "execute_result"
    }
   ],
   "source": [
    "R = Rank('ACGTTCGACTGGTTAG', 1, 3)\n",
    "Partition('ACGTTCGACTGGTTAG', R, 0, len(R)-1)"
   ]
  },
  {
   "cell_type": "code",
   "execution_count": 25,
   "id": "b6cc9199-c691-48c6-8671-b33e350bbbc9",
   "metadata": {},
   "outputs": [],
   "source": [
    "from random import randint\n",
    "class RandomHashInt:\n",
    "    def __init__(self):\n",
    "        self.table = dict()\n",
    "    def of(self, x):\n",
    "        if x not in self.table:\n",
    "            self.table[x] = randint(0,1000)\n",
    "        return self.table[x]\n",
    "class HashTablesList:\n",
    "    def __init__(self):\n",
    "        self.tables = {}\n",
    "    def get(self, l):\n",
    "        if l not in self.tables:\n",
    "            return None\n",
    "        return self.tables[l]\n",
    "    def insert(self, l):\n",
    "        self.tables[l] = {'table': {}, 'random_function': RandomHashInt() }"
   ]
  },
  {
   "cell_type": "code",
   "execution_count": 26,
   "id": "5d26c3a5-508d-46a4-af6e-ab98967dcd3d",
   "metadata": {},
   "outputs": [],
   "source": [
    "def build_index(S, q):\n",
    "    \"\"\"\n",
    "    Input: set of input strings S = {s1, . . . , sn }\n",
    "    Output: set of hash tables {(Hi, fi )}, where for the i-th hash table, each\n",
    "    string s is hashed into the fi(s)-th bucket of Hi\n",
    "    \"\"\"\n",
    "    hash_tables = HashTablesList()\n",
    "    for i,si in enumerate(S):\n",
    "        Ri = Rank(si, 1, q)\n",
    "        Pi = Partition(si, Ri, 0, len(Ri)-1)\n",
    "        for (ssub, l) in Pi:\n",
    "            if hash_tables.get(l) is None:\n",
    "                hash_tables.insert(l)\n",
    "            fl = hash_tables.get(l)['random_function']\n",
    "            hash_tables.get(l)['table'][fl.of(ssub)] = i\n",
    "    return hash_tables"
   ]
  },
  {
   "cell_type": "code",
   "execution_count": 31,
   "id": "954097e1-f0a1-47e2-a575-853df411f6fb",
   "metadata": {},
   "outputs": [],
   "source": [
    "S = ['ACGTTCGACTGGTTAG',\n",
    "     'CCGTTCGAACTGGTTAG',\n",
    "     'ACATTCGACTGGTTGAG',\n",
    "     'TCGAACGTTCGAACGT']\n",
    "index = build_index(S, 3)"
   ]
  },
  {
   "cell_type": "code",
   "execution_count": 32,
   "id": "e7e04d28-d4cf-406d-b070-08dad8b1dc64",
   "metadata": {},
   "outputs": [
    {
     "data": {
      "text/plain": [
       "{5: {'table': {767: 0, 797: 0, 32: 0},\n",
       "  'random_function': <__main__.RandomHashInt at 0x7f4eb4644d60>},\n",
       " 1: {'table': {517: 1, 257: 3, 770: 3, 575: 2, 627: 3},\n",
       "  'random_function': <__main__.RandomHashInt at 0x7f4eb46440a0>},\n",
       " 2: {'table': {654: 0, 838: 3, 373: 3, 456: 1, 634: 1, 849: 1, 590: 2, 875: 3},\n",
       "  'random_function': <__main__.RandomHashInt at 0x7f4eb46554f0>},\n",
       " 6: {'table': {380: 1, 553: 2, 280: 1, 228: 2, 885: 2},\n",
       "  'random_function': <__main__.RandomHashInt at 0x7f4eb4655340>},\n",
       " 3: {'table': {131: 2, 175: 3, 790: 3, 42: 3, 774: 3},\n",
       "  'random_function': <__main__.RandomHashInt at 0x7f4eb4655580>}}"
      ]
     },
     "execution_count": 32,
     "metadata": {},
     "output_type": "execute_result"
    }
   ],
   "source": [
    "index.tables"
   ]
  },
  {
   "cell_type": "code",
   "execution_count": null,
   "id": "cc8c7b11-e870-43a6-a0c8-580c0061d106",
   "metadata": {},
   "outputs": [],
   "source": []
  }
 ],
 "metadata": {
  "kernelspec": {
   "display_name": "Python 3 (ipykernel)",
   "language": "python",
   "name": "python3"
  },
  "language_info": {
   "codemirror_mode": {
    "name": "ipython",
    "version": 3
   },
   "file_extension": ".py",
   "mimetype": "text/x-python",
   "name": "python",
   "nbconvert_exporter": "python",
   "pygments_lexer": "ipython3",
   "version": "3.8.10"
  }
 },
 "nbformat": 4,
 "nbformat_minor": 5
}
