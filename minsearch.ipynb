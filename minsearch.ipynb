{
 "cells": [
  {
   "cell_type": "markdown",
   "id": "988b6594-4d2a-4109-b6e8-8ea2aa9a38a3",
   "metadata": {},
   "source": [
    "## Reprodução feita por Carlos Vinicius \n",
    "### Baseada nos pseudocódigos do artigo \"MinSearch: An Efficient Algorithm for Similarity Search under Edit Distance\""
   ]
  },
  {
   "cell_type": "code",
   "execution_count": 126,
   "id": "14d17f2a-85cb-462e-bf02-1da87f4fed05",
   "metadata": {},
   "outputs": [],
   "source": [
    "from random import random\n",
    "class RandomHash:\n",
    "    def __init__(self):\n",
    "        self.table = dict()\n",
    "    def of(self, x):\n",
    "        # Associa para cada string q-gram um valor real aleatório entre 0 e 1\n",
    "        if x not in self.table:\n",
    "            self.table[x] = random()\n",
    "        return self.table[x]"
   ]
  },
  {
   "cell_type": "code",
   "execution_count": 127,
   "id": "d79c27a4-470a-458b-984b-fd71bc64c7bf",
   "metadata": {},
   "outputs": [],
   "source": [
    "def build_array(s, q = 2):\n",
    "    \"\"\"\n",
    "    build an array A with |s | − q + 1 elements, where the i-th element\n",
    "    A[i] = F (si..i+q−1), where F : Σq → (0, 1) is a random hash function\n",
    "    \"\"\"\n",
    "    from random import random\n",
    "    F = RandomHash()\n",
    "    A = []\n",
    "    for i in range(len(s)-q+1):\n",
    "        A.append(F.of(s[i:i+q]))\n",
    "    return A    "
   ]
  },
  {
   "cell_type": "code",
   "execution_count": 128,
   "id": "75195215-451d-41c8-a37a-67eba85a14b1",
   "metadata": {},
   "outputs": [
    {
     "data": {
      "text/plain": [
       "[0.7482187203239291, 0.5988346735122353, 0.6336472606984733]"
      ]
     },
     "execution_count": 128,
     "metadata": {},
     "output_type": "execute_result"
    }
   ],
   "source": [
    "build_array('amigo', 3)"
   ]
  },
  {
   "cell_type": "code",
   "execution_count": 129,
   "id": "6758e065-f106-4e2c-a794-3bd1208f7bb3",
   "metadata": {},
   "outputs": [],
   "source": [
    "def Rank(s, r, q = 2):\n",
    "    \"\"\"\n",
    "    Input: input string s; minimum rank r\n",
    "    Output: rank array R = {(pi, Ri )}: pi denotes the index of the letter in\n",
    "    s corresponding to the i-th pair, and Ri is its rank\n",
    "    \"\"\"\n",
    "    A = build_array(s, q)\n",
    "    R = [(0, float('inf'))] # the first character of s has ranking infinity\n",
    "    for i in range(len(A)):\n",
    "        x = 1\n",
    "        while i-x >= 0 and i+x < len(A):\n",
    "            if A[i] < min(A[i+x], A[i-x]):\n",
    "                x += 1\n",
    "            else:\n",
    "                break\n",
    "        if x > r:\n",
    "            R.append((i, x-1))\n",
    "    R.append((len(s)-q, float('inf')))\n",
    "    return R   "
   ]
  },
  {
   "cell_type": "code",
   "execution_count": 130,
   "id": "53448c23-f352-4ee5-91e6-d87d1defc32d",
   "metadata": {},
   "outputs": [
    {
     "data": {
      "text/plain": [
       "[(0, inf), (1, 1), (6, 6), (11, 3), (14, inf)]"
      ]
     },
     "execution_count": 130,
     "metadata": {},
     "output_type": "execute_result"
    }
   ],
   "source": [
    "Rank('ACGTTCGACTGGTTAG', 1)"
   ]
  },
  {
   "cell_type": "code",
   "execution_count": 131,
   "id": "741bc073-9842-45b1-96ad-5ea6b06c3145",
   "metadata": {},
   "outputs": [],
   "source": [
    "def Partition(s, R, start, end):\n",
    "    \"\"\"\n",
    "    Input: input string s; rank array R = {(pi, Ri )} of s; two indices start and end\n",
    "    Output: set of partitions P = {(ssub , l)}, where (ssub , l) denotes a\n",
    "    substring ssub with level l\n",
    "    \"\"\"\n",
    "    if end <= start + 1:\n",
    "        return []\n",
    "    maxR = float('-inf')\n",
    "    M = []\n",
    "    i = start + 1\n",
    "    while i < end:\n",
    "        if R[i][1] > maxR:\n",
    "            maxR = R[i][1]\n",
    "            M = [i]\n",
    "        if R[i][1] == maxR:\n",
    "            M.append(i)\n",
    "        i += 1\n",
    "    P = []\n",
    "    M = [start] + M + [end]\n",
    "    M.sort()\n",
    "    for j in range(len(M)-1):\n",
    "        u = M[j]\n",
    "        v = M[j+1]\n",
    "        pu = R[u][0]\n",
    "        pv_minus_1 = R[v-1][0]\n",
    "        pv = R[v][0]\n",
    "        P.append((s[pu:pv_minus_1 + 1], min(R[u][1], R[v][1])))\n",
    "        P = P+(Partition(s, R, u, v))\n",
    "    return P"
   ]
  },
  {
   "cell_type": "code",
   "execution_count": 132,
   "id": "6c4e4058-72e7-4c46-9181-86e00e657f35",
   "metadata": {},
   "outputs": [
    {
     "data": {
      "text/plain": [
       "[('ACGTTCGA', 4),\n",
       " ('ACGTT', 2),\n",
       " ('A', 1),\n",
       " ('', 1),\n",
       " ('G', 1),\n",
       " ('T', 1),\n",
       " ('', 2),\n",
       " ('A', 2),\n",
       " ('', 4),\n",
       " ('G', 4)]"
      ]
     },
     "execution_count": 132,
     "metadata": {},
     "output_type": "execute_result"
    }
   ],
   "source": [
    "R = Rank('ACGTTCGACTGGTTAG', 1)\n",
    "Partition('ACGTTCGACTGGTTAG', R, 0, len(R)-1)"
   ]
  },
  {
   "cell_type": "code",
   "execution_count": 133,
   "id": "b6cc9199-c691-48c6-8671-b33e350bbbc9",
   "metadata": {},
   "outputs": [],
   "source": [
    "from random import randint\n",
    "from collections import defaultdict\n",
    "class RandomHashInt:\n",
    "    def __init__(self):\n",
    "        self.table = dict()\n",
    "    def of(self, x):\n",
    "        if x not in self.table:\n",
    "            self.table[x] = randint(0,1000)\n",
    "        return self.table[x]\n",
    "class HashTablesList:\n",
    "    def __init__(self):\n",
    "        self.tables = {}\n",
    "    def get(self, l):\n",
    "        if l not in self.tables:\n",
    "            return None\n",
    "        return self.tables[l]\n",
    "    def insert(self, l):\n",
    "        self.tables[l] = {'table': defaultdict(set), 'random_function': RandomHashInt() }"
   ]
  },
  {
   "cell_type": "code",
   "execution_count": 134,
   "id": "5d26c3a5-508d-46a4-af6e-ab98967dcd3d",
   "metadata": {},
   "outputs": [],
   "source": [
    "def build_index(S, q = 2):\n",
    "    \"\"\"\n",
    "    Input: set of input strings S = {s1, . . . , sn }\n",
    "    Output: set of hash tables {(Hi, fi )}, where for the i-th hash table, each\n",
    "    string s is hashed into the fi(s)-th bucket of Hi\n",
    "    \"\"\"\n",
    "    hash_tables = HashTablesList()\n",
    "    for i,si in enumerate(S):\n",
    "        Ri = Rank(si, 0, q)\n",
    "        Pi = Partition(si, Ri, 0, len(Ri)-1)\n",
    "        for (ssub, l) in Pi:\n",
    "            if hash_tables.get(l) is None:\n",
    "                hash_tables.insert(l)\n",
    "            fl = hash_tables.get(l)['random_function']\n",
    "            hash_tables.get(l)['table'][(ssub, fl.of(ssub))].add(i)\n",
    "    return hash_tables"
   ]
  },
  {
   "cell_type": "code",
   "execution_count": 135,
   "id": "954097e1-f0a1-47e2-a575-853df411f6fb",
   "metadata": {},
   "outputs": [],
   "source": [
    "S = ['ACGTTCGACTGGTTAG',\n",
    "     'CCGTTCGAACTGGTTAG',\n",
    "     'ACATTCGACTGGTTGAG',\n",
    "     'TCGAACGTTCGAACGT']\n",
    "index = build_index(S, 3)"
   ]
  },
  {
   "cell_type": "code",
   "execution_count": 136,
   "id": "e7e04d28-d4cf-406d-b070-08dad8b1dc64",
   "metadata": {},
   "outputs": [
    {
     "data": {
      "text/plain": [
       "{4: {'table': defaultdict(set,\n",
       "              {('ACGTTCGAC', 566): {0}, ('', 545): {0}, ('TGGTT', 877): {0}}),\n",
       "  'random_function': <__main__.RandomHashInt at 0x7f4eb44d5160>},\n",
       " 3: {'table': defaultdict(set,\n",
       "              {('ACG', 136): {0},\n",
       "               ('', 846): {0, 1, 2, 3},\n",
       "               ('TTCGAC', 283): {0},\n",
       "               ('AACT', 701): {1},\n",
       "               ('GGTT', 223): {1},\n",
       "               ('GACT', 28): {2},\n",
       "               ('GGTTG', 276): {2},\n",
       "               ('TCG', 49): {3},\n",
       "               ('AACGTTCGAAC', 939): {3}}),\n",
       "  'random_function': <__main__.RandomHashInt at 0x7f4eb44d58e0>},\n",
       " 0: {'table': defaultdict(set,\n",
       "              {('A', 424): {0, 1, 2, 3},\n",
       "               ('C', 489): {0, 1, 2, 3},\n",
       "               ('G', 690): {0, 1, 2, 3},\n",
       "               ('T', 746): {0, 1, 2, 3},\n",
       "               ('', 807): {0, 1, 2, 3}}),\n",
       "  'random_function': <__main__.RandomHashInt at 0x7f4eb44d5e50>},\n",
       " 1: {'table': defaultdict(set,\n",
       "              {('TTC', 157): {0},\n",
       "               ('', 613): {0, 1, 2, 3},\n",
       "               ('GAC', 187): {0},\n",
       "               ('TGG', 269): {0},\n",
       "               ('TT', 103): {0, 1},\n",
       "               ('CCG', 944): {1},\n",
       "               ('CG', 606): {1, 3},\n",
       "               ('AA', 412): {1, 3},\n",
       "               ('CT', 781): {1},\n",
       "               ('AC', 711): {2},\n",
       "               ('ATTC', 977): {2},\n",
       "               ('T', 51): {3},\n",
       "               ('CGTT', 822): {3}}),\n",
       "  'random_function': <__main__.RandomHashInt at 0x7f4eb44d5490>},\n",
       " 7: {'table': defaultdict(set,\n",
       "              {('CCGTTCG', 481): {1}, ('', 312): {1}, ('AACTGGTT', 443): {1}}),\n",
       "  'random_function': <__main__.RandomHashInt at 0x7f4eb44d5340>},\n",
       " 5: {'table': defaultdict(set,\n",
       "              {('ACATTC', 769): {2}, ('', 656): {2}, ('GACTGGTTG', 21): {2}}),\n",
       "  'random_function': <__main__.RandomHashInt at 0x7f4eb44d55e0>},\n",
       " 2: {'table': defaultdict(set,\n",
       "              {('AACGTTCG', 29): {3}, ('', 82): {3}, ('AAC', 920): {3}}),\n",
       "  'random_function': <__main__.RandomHashInt at 0x7f4eb44d5310>}}"
      ]
     },
     "execution_count": 136,
     "metadata": {},
     "output_type": "execute_result"
    }
   ],
   "source": [
    "index.tables"
   ]
  },
  {
   "cell_type": "code",
   "execution_count": 137,
   "id": "b31f514b-34ae-489d-9b7d-96c889778adc",
   "metadata": {},
   "outputs": [],
   "source": [
    "def ED(s1, s2):\n",
    "    # Edit distance between two strings. Levenshtein distance, in this case\n",
    "    # https://stackoverflow.com/questions/2460177/edit-distance-in-python\n",
    "    if len(s1) > len(s2):\n",
    "        s1, s2 = s2, s1\n",
    "\n",
    "    distances = range(len(s1) + 1)\n",
    "    for i2, c2 in enumerate(s2):\n",
    "        distances_ = [i2+1]\n",
    "        for i1, c1 in enumerate(s1):\n",
    "            if c1 == c2:\n",
    "                distances_.append(distances[i1])\n",
    "            else:\n",
    "                distances_.append(1 + min((distances[i1], distances[i1 + 1], distances_[-1])))\n",
    "        distances = distances_\n",
    "    return distances[-1]"
   ]
  },
  {
   "cell_type": "code",
   "execution_count": 138,
   "id": "7dff34a8-b0a4-41ca-98f8-5708896ba25a",
   "metadata": {},
   "outputs": [
    {
     "data": {
      "text/plain": [
       "2"
      ]
     },
     "execution_count": 138,
     "metadata": {},
     "output_type": "execute_result"
    }
   ],
   "source": [
    "ED('abc', 'cba')"
   ]
  },
  {
   "cell_type": "code",
   "execution_count": 139,
   "id": "cc8c7b11-e870-43a6-a0c8-580c0061d106",
   "metadata": {},
   "outputs": [],
   "source": [
    "def r(s, alpha, K, q = 2):\n",
    "    import math\n",
    "    return max(0, math.floor((len(s)-q+1-alpha*K)/(2*alpha*K + 2)))\n",
    "\n",
    "def min_search_threshold(S, t, K):\n",
    "    \"\"\"\n",
    "    Input: set of strings S = {s1, . . . , sn }; query string t; distance threshold K\n",
    "    Output: O ← {i | si ∈ S; ED(si, t) ≤ K }\n",
    "    \"\"\"\n",
    "    tables = build_index(S).tables\n",
    "    O = []\n",
    "    C = []\n",
    "    alpha = 120\n",
    "    R = Rank(t, r(t, alpha, K))\n",
    "    P = Partition(t, R, 0, len(R)-1)\n",
    "    for (tsub, l) in P:\n",
    "        fl = tables[l]['random_function']\n",
    "        for i in tables[l]['table'][(tsub, fl.of(tsub))]:\n",
    "            if abs(len(S[i])-len(t)) <= K:\n",
    "                C.append((i,S[i]))\n",
    "    C = list(set(C))\n",
    "    for i,si in C:\n",
    "        if ED(si,t) <= K:\n",
    "            O.append(i)\n",
    "    return O"
   ]
  },
  {
   "cell_type": "code",
   "execution_count": 140,
   "id": "34a2c7bd-896d-4e0d-b5da-9a8723689bcd",
   "metadata": {},
   "outputs": [
    {
     "data": {
      "text/plain": [
       "[0]"
      ]
     },
     "execution_count": 140,
     "metadata": {},
     "output_type": "execute_result"
    }
   ],
   "source": [
    "S = ['ACGTTCGACTGGTTAG',\n",
    "     'CCGTTCGAACTGGTTAG',\n",
    "     'ACATTCGACTGGTTGAG',\n",
    "     'TCGAACGTTCGAACGT']\n",
    "min_search_threshold(S, 'ACGTTCGACTGG', 5)"
   ]
  },
  {
   "cell_type": "code",
   "execution_count": null,
   "id": "6fbd85ce-2a07-48bf-aeb8-c37de2f23382",
   "metadata": {},
   "outputs": [],
   "source": []
  }
 ],
 "metadata": {
  "kernelspec": {
   "display_name": "Python 3 (ipykernel)",
   "language": "python",
   "name": "python3"
  },
  "language_info": {
   "codemirror_mode": {
    "name": "ipython",
    "version": 3
   },
   "file_extension": ".py",
   "mimetype": "text/x-python",
   "name": "python",
   "nbconvert_exporter": "python",
   "pygments_lexer": "ipython3",
   "version": "3.8.10"
  }
 },
 "nbformat": 4,
 "nbformat_minor": 5
}
