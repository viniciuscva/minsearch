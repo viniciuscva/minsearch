{
 "cells": [
  {
   "cell_type": "code",
   "execution_count": 1,
   "id": "14d17f2a-85cb-462e-bf02-1da87f4fed05",
   "metadata": {},
   "outputs": [],
   "source": [
    "class RandomHash:\n",
    "    from random import random\n",
    "    def __init__(self):\n",
    "        self.table = dict()\n",
    "    def of(x):\n",
    "        if x not in self.table:\n",
    "            self.table[x] = random()\n",
    "        return self.table[x]"
   ]
  },
  {
   "cell_type": "code",
   "execution_count": 3,
   "id": "d79c27a4-470a-458b-984b-fd71bc64c7bf",
   "metadata": {},
   "outputs": [],
   "source": [
    "def build_array(s, q):\n",
    "    \"\"\"\n",
    "    build an array A with |s | − q + 1 elements, where the i-th element\n",
    "    A[i] = F (si..i+q−1), where F : Σq → (0, 1) is a random hash function\n",
    "    \"\"\"\n",
    "    from random import random\n",
    "    F = RandomHash()\n",
    "    A = []\n",
    "    for i in range(len(s)-q+1):\n",
    "        A.append(F.of(s[i:i+q]))\n",
    "    return A    "
   ]
  },
  {
   "cell_type": "code",
   "execution_count": null,
   "id": "6758e065-f106-4e2c-a794-3bd1208f7bb3",
   "metadata": {},
   "outputs": [],
   "source": [
    "def Rank(s, r):\n",
    "    \"\"\"\n",
    "    Input: input string s; minimum rank r\n",
    "    Output: rank array R = {(pi, Ri )}: pi denotes the index of the letter in\n",
    "    s corresponding to the i-th pair, and Ri is its rank\n",
    "    \"\"\"\n",
    "    \n",
    "    "
   ]
  }
 ],
 "metadata": {
  "kernelspec": {
   "display_name": "Python 3 (ipykernel)",
   "language": "python",
   "name": "python3"
  },
  "language_info": {
   "codemirror_mode": {
    "name": "ipython",
    "version": 3
   },
   "file_extension": ".py",
   "mimetype": "text/x-python",
   "name": "python",
   "nbconvert_exporter": "python",
   "pygments_lexer": "ipython3",
   "version": "3.8.10"
  }
 },
 "nbformat": 4,
 "nbformat_minor": 5
}
